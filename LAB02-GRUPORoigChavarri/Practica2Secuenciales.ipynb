{
 "cells": [
  {
   "cell_type": "markdown",
   "metadata": {},
   "source": [
    "# Practica 2 Laboratorio 2"
   ]
  },
  {
   "cell_type": "markdown",
   "metadata": {},
   "source": [
    "Álvaro Chávarri y Alberto Roig"
   ]
  },
  {
   "cell_type": "markdown",
   "metadata": {},
   "source": [
    "Importamos las librerias que vayamos a usar para la resolución de esta práctica"
   ]
  },
  {
   "cell_type": "code",
   "execution_count": null,
   "metadata": {},
   "outputs": [],
   "source": [
    "#importaciones de las librerias\n",
    "import pandas as pd\n",
    "import numpy as np\n",
    "import sklearn as sl\n",
    "import matplotlib.pyplot as pl\n",
    "import mlxtend as mx\n",
    "from gsppy.gsp import GSP"
   ]
  },
  {
   "cell_type": "markdown",
   "metadata": {},
   "source": [
    "Leemos el dataset que será usado para la realización del ejercicio"
   ]
  },
  {
   "cell_type": "code",
   "execution_count": 2,
   "metadata": {},
   "outputs": [
    {
     "data": {
      "text/html": [
       "<div>\n",
       "<style scoped>\n",
       "    .dataframe tbody tr th:only-of-type {\n",
       "        vertical-align: middle;\n",
       "    }\n",
       "\n",
       "    .dataframe tbody tr th {\n",
       "        vertical-align: top;\n",
       "    }\n",
       "\n",
       "    .dataframe thead th {\n",
       "        text-align: right;\n",
       "    }\n",
       "</style>\n",
       "<table border=\"1\" class=\"dataframe\">\n",
       "  <thead>\n",
       "    <tr style=\"text-align: right;\">\n",
       "      <th></th>\n",
       "      <th>Fecha</th>\n",
       "      <th>Zoológico</th>\n",
       "      <th>1</th>\n",
       "      <th>2</th>\n",
       "      <th>3</th>\n",
       "      <th>4</th>\n",
       "      <th>5</th>\n",
       "    </tr>\n",
       "  </thead>\n",
       "  <tbody>\n",
       "    <tr>\n",
       "      <th>0</th>\n",
       "      <td>2021-03-01</td>\n",
       "      <td>Madrid</td>\n",
       "      <td>Osos</td>\n",
       "      <td>Leones</td>\n",
       "      <td>Chimpancés</td>\n",
       "      <td>Koala</td>\n",
       "      <td>Jirafa</td>\n",
       "    </tr>\n",
       "    <tr>\n",
       "      <th>1</th>\n",
       "      <td>2021-03-02</td>\n",
       "      <td>Madrid</td>\n",
       "      <td>Chimpancés</td>\n",
       "      <td>Koala</td>\n",
       "      <td>Jirafa</td>\n",
       "      <td>Leones</td>\n",
       "      <td>Osos</td>\n",
       "    </tr>\n",
       "    <tr>\n",
       "      <th>2</th>\n",
       "      <td>2021-03-03</td>\n",
       "      <td>Madrid</td>\n",
       "      <td>Leones</td>\n",
       "      <td>Chimpancés</td>\n",
       "      <td>Koala</td>\n",
       "      <td>Osos</td>\n",
       "      <td>Jirafa</td>\n",
       "    </tr>\n",
       "    <tr>\n",
       "      <th>3</th>\n",
       "      <td>2021-03-04</td>\n",
       "      <td>Madrid</td>\n",
       "      <td>Jirafa</td>\n",
       "      <td>Koala</td>\n",
       "      <td>Osos</td>\n",
       "      <td>Leones</td>\n",
       "      <td>Chimpancés</td>\n",
       "    </tr>\n",
       "    <tr>\n",
       "      <th>4</th>\n",
       "      <td>2021-03-05</td>\n",
       "      <td>Madrid</td>\n",
       "      <td>Leones</td>\n",
       "      <td>Chimpancés</td>\n",
       "      <td>Osos</td>\n",
       "      <td>Jirafa</td>\n",
       "      <td>Koala</td>\n",
       "    </tr>\n",
       "    <tr>\n",
       "      <th>5</th>\n",
       "      <td>2021-03-06</td>\n",
       "      <td>Madrid</td>\n",
       "      <td>Osos</td>\n",
       "      <td>Leones</td>\n",
       "      <td>Koala</td>\n",
       "      <td>Jirafa</td>\n",
       "      <td>Chimpancés</td>\n",
       "    </tr>\n",
       "    <tr>\n",
       "      <th>6</th>\n",
       "      <td>2021-03-07</td>\n",
       "      <td>Madrid</td>\n",
       "      <td>Leones</td>\n",
       "      <td>Osos</td>\n",
       "      <td>Jirafa</td>\n",
       "      <td>Chimpancés</td>\n",
       "      <td>Koala</td>\n",
       "    </tr>\n",
       "    <tr>\n",
       "      <th>7</th>\n",
       "      <td>2021-03-01</td>\n",
       "      <td>Barcelona</td>\n",
       "      <td>Osos</td>\n",
       "      <td>Chimpancés</td>\n",
       "      <td>Leones</td>\n",
       "      <td>Koala</td>\n",
       "      <td>Jirafa</td>\n",
       "    </tr>\n",
       "    <tr>\n",
       "      <th>8</th>\n",
       "      <td>2021-03-02</td>\n",
       "      <td>Barcelona</td>\n",
       "      <td>Koala</td>\n",
       "      <td>Jirafa</td>\n",
       "      <td>Leones</td>\n",
       "      <td>Osos</td>\n",
       "      <td>Chimpancés</td>\n",
       "    </tr>\n",
       "    <tr>\n",
       "      <th>9</th>\n",
       "      <td>2021-03-03</td>\n",
       "      <td>Barcelona</td>\n",
       "      <td>Osos</td>\n",
       "      <td>Leones</td>\n",
       "      <td>Jirafa</td>\n",
       "      <td>Chimpancés</td>\n",
       "      <td>Koala</td>\n",
       "    </tr>\n",
       "    <tr>\n",
       "      <th>10</th>\n",
       "      <td>2021-03-04</td>\n",
       "      <td>Barcelona</td>\n",
       "      <td>Jirafa</td>\n",
       "      <td>Leones</td>\n",
       "      <td>Chimpancés</td>\n",
       "      <td>Koala</td>\n",
       "      <td>Osos</td>\n",
       "    </tr>\n",
       "    <tr>\n",
       "      <th>11</th>\n",
       "      <td>2021-03-05</td>\n",
       "      <td>Barcelona</td>\n",
       "      <td>Leones</td>\n",
       "      <td>Koala</td>\n",
       "      <td>Osos</td>\n",
       "      <td>Jirafa</td>\n",
       "      <td>Chimpancés</td>\n",
       "    </tr>\n",
       "    <tr>\n",
       "      <th>12</th>\n",
       "      <td>2021-03-06</td>\n",
       "      <td>Barcelona</td>\n",
       "      <td>Chimpancés</td>\n",
       "      <td>Koala</td>\n",
       "      <td>Leones</td>\n",
       "      <td>Osos</td>\n",
       "      <td>Jirafa</td>\n",
       "    </tr>\n",
       "    <tr>\n",
       "      <th>13</th>\n",
       "      <td>2021-03-07</td>\n",
       "      <td>Barcelona</td>\n",
       "      <td>Leones</td>\n",
       "      <td>Osos</td>\n",
       "      <td>Jirafa</td>\n",
       "      <td>Chimpancés</td>\n",
       "      <td>Koala</td>\n",
       "    </tr>\n",
       "    <tr>\n",
       "      <th>14</th>\n",
       "      <td>2021-03-01</td>\n",
       "      <td>Valencia</td>\n",
       "      <td>Leones</td>\n",
       "      <td>Chimpancés</td>\n",
       "      <td>Osos</td>\n",
       "      <td>Koala</td>\n",
       "      <td>Jirafa</td>\n",
       "    </tr>\n",
       "    <tr>\n",
       "      <th>15</th>\n",
       "      <td>2021-03-02</td>\n",
       "      <td>Valencia</td>\n",
       "      <td>Osos</td>\n",
       "      <td>Leones</td>\n",
       "      <td>Koala</td>\n",
       "      <td>Chimpancés</td>\n",
       "      <td>Jirafa</td>\n",
       "    </tr>\n",
       "    <tr>\n",
       "      <th>16</th>\n",
       "      <td>2021-03-03</td>\n",
       "      <td>Valencia</td>\n",
       "      <td>Leones</td>\n",
       "      <td>Osos</td>\n",
       "      <td>Chimpancés</td>\n",
       "      <td>Jirafa</td>\n",
       "      <td>Koala</td>\n",
       "    </tr>\n",
       "    <tr>\n",
       "      <th>17</th>\n",
       "      <td>2021-03-04</td>\n",
       "      <td>Valencia</td>\n",
       "      <td>Osos</td>\n",
       "      <td>Chimpancés</td>\n",
       "      <td>Koala</td>\n",
       "      <td>Leones</td>\n",
       "      <td>Jirafa</td>\n",
       "    </tr>\n",
       "    <tr>\n",
       "      <th>18</th>\n",
       "      <td>2021-03-05</td>\n",
       "      <td>Valencia</td>\n",
       "      <td>Osos</td>\n",
       "      <td>Chimpancés</td>\n",
       "      <td>Jirafa</td>\n",
       "      <td>Koala</td>\n",
       "      <td>Leones</td>\n",
       "    </tr>\n",
       "    <tr>\n",
       "      <th>19</th>\n",
       "      <td>2021-03-06</td>\n",
       "      <td>Valencia</td>\n",
       "      <td>Jirafa</td>\n",
       "      <td>Osos</td>\n",
       "      <td>Leones</td>\n",
       "      <td>Chimpancés</td>\n",
       "      <td>Koala</td>\n",
       "    </tr>\n",
       "    <tr>\n",
       "      <th>20</th>\n",
       "      <td>2021-03-07</td>\n",
       "      <td>Valencia</td>\n",
       "      <td>Osos</td>\n",
       "      <td>Leones</td>\n",
       "      <td>Jirafa</td>\n",
       "      <td>Koala</td>\n",
       "      <td>Chimpancés</td>\n",
       "    </tr>\n",
       "    <tr>\n",
       "      <th>21</th>\n",
       "      <td>2021-03-01</td>\n",
       "      <td>Fuengirola</td>\n",
       "      <td>Koala</td>\n",
       "      <td>Leones</td>\n",
       "      <td>Chimpancés</td>\n",
       "      <td>Osos</td>\n",
       "      <td>Jirafa</td>\n",
       "    </tr>\n",
       "    <tr>\n",
       "      <th>22</th>\n",
       "      <td>2021-03-02</td>\n",
       "      <td>Fuengirola</td>\n",
       "      <td>Jirafa</td>\n",
       "      <td>Koala</td>\n",
       "      <td>Osos</td>\n",
       "      <td>Leones</td>\n",
       "      <td>Chimpancés</td>\n",
       "    </tr>\n",
       "    <tr>\n",
       "      <th>23</th>\n",
       "      <td>2021-03-03</td>\n",
       "      <td>Fuengirola</td>\n",
       "      <td>Leones</td>\n",
       "      <td>Jirafa</td>\n",
       "      <td>Koala</td>\n",
       "      <td>Osos</td>\n",
       "      <td>Chimpancés</td>\n",
       "    </tr>\n",
       "    <tr>\n",
       "      <th>24</th>\n",
       "      <td>2021-03-04</td>\n",
       "      <td>Fuengirola</td>\n",
       "      <td>Leones</td>\n",
       "      <td>Osos</td>\n",
       "      <td>Chimpancés</td>\n",
       "      <td>Koala</td>\n",
       "      <td>Jirafa</td>\n",
       "    </tr>\n",
       "    <tr>\n",
       "      <th>25</th>\n",
       "      <td>2021-03-05</td>\n",
       "      <td>Fuengirola</td>\n",
       "      <td>Jirafa</td>\n",
       "      <td>Osos</td>\n",
       "      <td>Leones</td>\n",
       "      <td>Chimpancés</td>\n",
       "      <td>Koala</td>\n",
       "    </tr>\n",
       "    <tr>\n",
       "      <th>26</th>\n",
       "      <td>2021-03-06</td>\n",
       "      <td>Fuengirola</td>\n",
       "      <td>Osos</td>\n",
       "      <td>Chimpancés</td>\n",
       "      <td>Koala</td>\n",
       "      <td>Jirafa</td>\n",
       "      <td>Leones</td>\n",
       "    </tr>\n",
       "    <tr>\n",
       "      <th>27</th>\n",
       "      <td>2021-03-07</td>\n",
       "      <td>Fuengirola</td>\n",
       "      <td>Koala</td>\n",
       "      <td>Osos</td>\n",
       "      <td>Leones</td>\n",
       "      <td>Jirafa</td>\n",
       "      <td>Chimpancés</td>\n",
       "    </tr>\n",
       "  </tbody>\n",
       "</table>\n",
       "</div>"
      ],
      "text/plain": [
       "        Fecha   Zoológico           1           2           3           4  \\\n",
       "0  2021-03-01      Madrid        Osos      Leones  Chimpancés      Koala    \n",
       "1  2021-03-02      Madrid  Chimpancés      Koala       Jirafa      Leones   \n",
       "2  2021-03-03      Madrid      Leones  Chimpancés      Koala         Osos   \n",
       "3  2021-03-04      Madrid      Jirafa      Koala         Osos      Leones   \n",
       "4  2021-03-05      Madrid      Leones  Chimpancés        Osos      Jirafa   \n",
       "5  2021-03-06      Madrid        Osos      Leones      Koala       Jirafa   \n",
       "6  2021-03-07      Madrid      Leones        Osos      Jirafa  Chimpancés   \n",
       "7  2021-03-01   Barcelona        Osos  Chimpancés      Leones      Koala    \n",
       "8  2021-03-02   Barcelona      Koala       Jirafa      Leones        Osos   \n",
       "9  2021-03-03   Barcelona        Osos      Leones      Jirafa  Chimpancés   \n",
       "10 2021-03-04   Barcelona      Jirafa      Leones  Chimpancés      Koala    \n",
       "11 2021-03-05   Barcelona      Leones      Koala         Osos      Jirafa   \n",
       "12 2021-03-06   Barcelona  Chimpancés      Koala       Leones        Osos   \n",
       "13 2021-03-07   Barcelona      Leones        Osos      Jirafa  Chimpancés   \n",
       "14 2021-03-01    Valencia      Leones  Chimpancés        Osos      Koala    \n",
       "15 2021-03-02    Valencia        Osos      Leones      Koala   Chimpancés   \n",
       "16 2021-03-03    Valencia      Leones        Osos  Chimpancés      Jirafa   \n",
       "17 2021-03-04    Valencia        Osos  Chimpancés      Koala       Leones   \n",
       "18 2021-03-05    Valencia        Osos  Chimpancés      Jirafa      Koala    \n",
       "19 2021-03-06    Valencia      Jirafa        Osos      Leones  Chimpancés   \n",
       "20 2021-03-07    Valencia        Osos      Leones      Jirafa      Koala    \n",
       "21 2021-03-01  Fuengirola      Koala       Leones  Chimpancés        Osos   \n",
       "22 2021-03-02  Fuengirola      Jirafa      Koala         Osos      Leones   \n",
       "23 2021-03-03  Fuengirola      Leones      Jirafa      Koala         Osos   \n",
       "24 2021-03-04  Fuengirola      Leones        Osos  Chimpancés      Koala    \n",
       "25 2021-03-05  Fuengirola      Jirafa        Osos      Leones  Chimpancés   \n",
       "26 2021-03-06  Fuengirola        Osos  Chimpancés      Koala       Jirafa   \n",
       "27 2021-03-07  Fuengirola      Koala         Osos      Leones      Jirafa   \n",
       "\n",
       "             5  \n",
       "0       Jirafa  \n",
       "1         Osos  \n",
       "2       Jirafa  \n",
       "3   Chimpancés  \n",
       "4       Koala   \n",
       "5   Chimpancés  \n",
       "6       Koala   \n",
       "7       Jirafa  \n",
       "8   Chimpancés  \n",
       "9       Koala   \n",
       "10        Osos  \n",
       "11  Chimpancés  \n",
       "12      Jirafa  \n",
       "13      Koala   \n",
       "14      Jirafa  \n",
       "15      Jirafa  \n",
       "16      Koala   \n",
       "17      Jirafa  \n",
       "18      Leones  \n",
       "19      Koala   \n",
       "20  Chimpancés  \n",
       "21      Jirafa  \n",
       "22  Chimpancés  \n",
       "23  Chimpancés  \n",
       "24      Jirafa  \n",
       "25      Koala   \n",
       "26      Leones  \n",
       "27  Chimpancés  "
      ]
     },
     "execution_count": 2,
     "metadata": {},
     "output_type": "execute_result"
    }
   ],
   "source": [
    "df=pd.read_excel('Zoo.xlsx')#Leemos el fichero excel\n",
    "df"
   ]
  },
  {
   "cell_type": "markdown",
   "metadata": {},
   "source": [
    "Una vez leido el dataset, daremos las posibilidades de que el analisis de patrones pueda realizarse por los diferentes zoológicos, en este caso 4: Madrid, Barcelona, Valencia y Fuengirola. Esta función lo que va a realizar es delimitar la columna Zoológco por ubicación"
   ]
  },
  {
   "cell_type": "code",
   "execution_count": 3,
   "metadata": {},
   "outputs": [],
   "source": [
    "#Condición zoológico Madrid\n",
    "is_madrid = df.loc[:, 'Zoológico'] == 'Madrid'\n",
    "#Condición zoológico Barcelona\n",
    "is_barcelona = df.loc[:, 'Zoológico'] == 'Barcelona'\n",
    "#Condición zoológico Valencia\n",
    "is_valencia = df.loc[:, 'Zoológico'] == 'Valencia'\n",
    "#Condición zoológico Fuengirola\n",
    "is_fuengirola = df.loc[:, 'Zoológico'] == 'Fuengirola'"
   ]
  },
  {
   "cell_type": "markdown",
   "metadata": {},
   "source": [
    "Tras generar las condiciones para los diferentes zoologicos, daremos la posibilidad de almacenar la información en la matriz por los diferentes zoologicos o de forma global. Esto nos permitirá hacer un análisis mas completo del ejercicio."
   ]
  },
  {
   "cell_type": "code",
   "execution_count": 4,
   "metadata": {},
   "outputs": [],
   "source": [
    "#################################### Madrid\n",
    "df_1=df.loc[is_madrid]\n",
    "df_madrid=df_1.iloc[:,2:7]\n",
    "m_madrid=np.array(df_madrid)\n",
    "#################################### Barcelona\n",
    "df_2=df.loc[is_barcelona]\n",
    "df_barcelona=df_2.iloc[:,2:7]\n",
    "m_barcelona=np.array(df_barcelona)\n",
    "#################################### Valencia\n",
    "df_3=df.loc[is_valencia]\n",
    "df_valencia=df_3.iloc[:,2:7]\n",
    "m_valencia=np.array(df_valencia)\n",
    "#################################### Fuengirola\n",
    "df_4=df.loc[is_fuengirola]\n",
    "df_fuengirola=df_4.iloc[:,2:7]\n",
    "m_fuengirola=np.array(df_fuengirola)\n",
    "#################################### Total\n",
    "df_tot=df.iloc[:,2:7]\n",
    "m_tot=np.array(df_tot)"
   ]
  },
  {
   "cell_type": "markdown",
   "metadata": {},
   "source": [
    "Matriz de Madrid"
   ]
  },
  {
   "cell_type": "code",
   "execution_count": 8,
   "metadata": {},
   "outputs": [
    {
     "data": {
      "text/plain": [
       "array([['Osos', 'Leones', 'Chimpancés', 'Koala ', 'Jirafa'],\n",
       "       ['Chimpancés', 'Koala ', 'Jirafa', 'Leones', 'Osos'],\n",
       "       ['Leones', 'Chimpancés', 'Koala ', 'Osos', 'Jirafa'],\n",
       "       ['Jirafa', 'Koala ', 'Osos', 'Leones', 'Chimpancés'],\n",
       "       ['Leones', 'Chimpancés', 'Osos', 'Jirafa', 'Koala '],\n",
       "       ['Osos', 'Leones', 'Koala ', 'Jirafa', 'Chimpancés'],\n",
       "       ['Leones', 'Osos', 'Jirafa', 'Chimpancés', 'Koala ']], dtype=object)"
      ]
     },
     "execution_count": 8,
     "metadata": {},
     "output_type": "execute_result"
    }
   ],
   "source": [
    "m_madrid"
   ]
  },
  {
   "cell_type": "markdown",
   "metadata": {},
   "source": [
    "Matriz de Barcelona"
   ]
  },
  {
   "cell_type": "code",
   "execution_count": 9,
   "metadata": {},
   "outputs": [
    {
     "data": {
      "text/plain": [
       "array([['Osos', 'Chimpancés', 'Leones', 'Koala ', 'Jirafa'],\n",
       "       ['Koala ', 'Jirafa', 'Leones', 'Osos', 'Chimpancés'],\n",
       "       ['Osos', 'Leones', 'Jirafa', 'Chimpancés', 'Koala '],\n",
       "       ['Jirafa', 'Leones', 'Chimpancés', 'Koala ', 'Osos'],\n",
       "       ['Leones', 'Koala ', 'Osos', 'Jirafa', 'Chimpancés'],\n",
       "       ['Chimpancés', 'Koala ', 'Leones', 'Osos', 'Jirafa'],\n",
       "       ['Leones', 'Osos', 'Jirafa', 'Chimpancés', 'Koala ']], dtype=object)"
      ]
     },
     "execution_count": 9,
     "metadata": {},
     "output_type": "execute_result"
    }
   ],
   "source": [
    "m_barcelona"
   ]
  },
  {
   "cell_type": "markdown",
   "metadata": {},
   "source": [
    "Matriz de Valencia"
   ]
  },
  {
   "cell_type": "code",
   "execution_count": 10,
   "metadata": {},
   "outputs": [
    {
     "data": {
      "text/plain": [
       "array([['Leones', 'Chimpancés', 'Osos', 'Koala ', 'Jirafa'],\n",
       "       ['Osos', 'Leones', 'Koala ', 'Chimpancés', 'Jirafa'],\n",
       "       ['Leones', 'Osos', 'Chimpancés', 'Jirafa', 'Koala '],\n",
       "       ['Osos', 'Chimpancés', 'Koala ', 'Leones', 'Jirafa'],\n",
       "       ['Osos', 'Chimpancés', 'Jirafa', 'Koala ', 'Leones'],\n",
       "       ['Jirafa', 'Osos', 'Leones', 'Chimpancés', 'Koala '],\n",
       "       ['Osos', 'Leones', 'Jirafa', 'Koala ', 'Chimpancés']], dtype=object)"
      ]
     },
     "execution_count": 10,
     "metadata": {},
     "output_type": "execute_result"
    }
   ],
   "source": [
    "m_valencia"
   ]
  },
  {
   "cell_type": "markdown",
   "metadata": {},
   "source": [
    "Matriz de Fuengirola"
   ]
  },
  {
   "cell_type": "code",
   "execution_count": 11,
   "metadata": {},
   "outputs": [
    {
     "data": {
      "text/plain": [
       "array([['Koala ', 'Leones', 'Chimpancés', 'Osos', 'Jirafa'],\n",
       "       ['Jirafa', 'Koala ', 'Osos', 'Leones', 'Chimpancés'],\n",
       "       ['Leones', 'Jirafa', 'Koala ', 'Osos', 'Chimpancés'],\n",
       "       ['Leones', 'Osos', 'Chimpancés', 'Koala ', 'Jirafa'],\n",
       "       ['Jirafa', 'Osos', 'Leones', 'Chimpancés', 'Koala '],\n",
       "       ['Osos', 'Chimpancés', 'Koala ', 'Jirafa', 'Leones'],\n",
       "       ['Koala ', 'Osos', 'Leones', 'Jirafa', 'Chimpancés']], dtype=object)"
      ]
     },
     "execution_count": 11,
     "metadata": {},
     "output_type": "execute_result"
    }
   ],
   "source": [
    "m_fuengirola"
   ]
  },
  {
   "cell_type": "markdown",
   "metadata": {},
   "source": [
    "Matriz total"
   ]
  },
  {
   "cell_type": "code",
   "execution_count": 13,
   "metadata": {},
   "outputs": [
    {
     "data": {
      "text/plain": [
       "array([['Osos', 'Leones', 'Chimpancés', 'Koala ', 'Jirafa'],\n",
       "       ['Chimpancés', 'Koala ', 'Jirafa', 'Leones', 'Osos'],\n",
       "       ['Leones', 'Chimpancés', 'Koala ', 'Osos', 'Jirafa'],\n",
       "       ['Jirafa', 'Koala ', 'Osos', 'Leones', 'Chimpancés'],\n",
       "       ['Leones', 'Chimpancés', 'Osos', 'Jirafa', 'Koala '],\n",
       "       ['Osos', 'Leones', 'Koala ', 'Jirafa', 'Chimpancés'],\n",
       "       ['Leones', 'Osos', 'Jirafa', 'Chimpancés', 'Koala '],\n",
       "       ['Osos', 'Chimpancés', 'Leones', 'Koala ', 'Jirafa'],\n",
       "       ['Koala ', 'Jirafa', 'Leones', 'Osos', 'Chimpancés'],\n",
       "       ['Osos', 'Leones', 'Jirafa', 'Chimpancés', 'Koala '],\n",
       "       ['Jirafa', 'Leones', 'Chimpancés', 'Koala ', 'Osos'],\n",
       "       ['Leones', 'Koala ', 'Osos', 'Jirafa', 'Chimpancés'],\n",
       "       ['Chimpancés', 'Koala ', 'Leones', 'Osos', 'Jirafa'],\n",
       "       ['Leones', 'Osos', 'Jirafa', 'Chimpancés', 'Koala '],\n",
       "       ['Leones', 'Chimpancés', 'Osos', 'Koala ', 'Jirafa'],\n",
       "       ['Osos', 'Leones', 'Koala ', 'Chimpancés', 'Jirafa'],\n",
       "       ['Leones', 'Osos', 'Chimpancés', 'Jirafa', 'Koala '],\n",
       "       ['Osos', 'Chimpancés', 'Koala ', 'Leones', 'Jirafa'],\n",
       "       ['Osos', 'Chimpancés', 'Jirafa', 'Koala ', 'Leones'],\n",
       "       ['Jirafa', 'Osos', 'Leones', 'Chimpancés', 'Koala '],\n",
       "       ['Osos', 'Leones', 'Jirafa', 'Koala ', 'Chimpancés'],\n",
       "       ['Koala ', 'Leones', 'Chimpancés', 'Osos', 'Jirafa'],\n",
       "       ['Jirafa', 'Koala ', 'Osos', 'Leones', 'Chimpancés'],\n",
       "       ['Leones', 'Jirafa', 'Koala ', 'Osos', 'Chimpancés'],\n",
       "       ['Leones', 'Osos', 'Chimpancés', 'Koala ', 'Jirafa'],\n",
       "       ['Jirafa', 'Osos', 'Leones', 'Chimpancés', 'Koala '],\n",
       "       ['Osos', 'Chimpancés', 'Koala ', 'Jirafa', 'Leones'],\n",
       "       ['Koala ', 'Osos', 'Leones', 'Jirafa', 'Chimpancés']], dtype=object)"
      ]
     },
     "execution_count": 13,
     "metadata": {},
     "output_type": "execute_result"
    }
   ],
   "source": [
    "m_tot"
   ]
  },
  {
   "cell_type": "markdown",
   "metadata": {},
   "source": [
    "Tras presentar las transacciones de cada uno de los zoológicos y las secuencias totales del dataset, pasaremos a la realización del GSP, para la resolución del ejercicio. Las diferentes configuraciones de soporte se haran sobre el fichero total. Más tarde analizaremos una mas a fondo entre los diferentes zoológicos."
   ]
  },
  {
   "cell_type": "code",
   "execution_count": 20,
   "metadata": {},
   "outputs": [],
   "source": [
    "#Ver los resultados de Madrid para un soporte de 0.2\n",
    "result_madrid = GSP(m_madrid).search(0.2)\n",
    "#Ver los resultados de Barcelona para un soporte de 0.2\n",
    "result_barcelona = GSP(m_barcelona).search(0.2)\n",
    "#Ver los resultados de Valencia para un soporte de 0.2\n",
    "result_valencia = GSP(m_valencia).search(0.2)\n",
    "#Ver los resultados de Fuengirola para un soporte de 0.2\n",
    "result_fuengirola = GSP(m_fuengirola).search(0.2)"
   ]
  },
  {
   "cell_type": "markdown",
   "metadata": {},
   "source": [
    "Ahora trataremos 3 configuraciones de soporte para la matriz total y analizaremos como varía su resultado"
   ]
  },
  {
   "cell_type": "code",
   "execution_count": 15,
   "metadata": {},
   "outputs": [],
   "source": [
    "#Primera Configuración\n",
    "result_tot1 = GSP(m_tot).search(0.1)\n",
    "#Segunda Configuración\n",
    "result_tot2 = GSP(m_tot).search(0.2)\n",
    "#Tercera Configuración\n",
    "result_tot3 = GSP(m_tot).search(0.3)"
   ]
  },
  {
   "cell_type": "markdown",
   "metadata": {},
   "source": [
    "Imprimimos la primera configuración"
   ]
  },
  {
   "cell_type": "code",
   "execution_count": 7,
   "metadata": {},
   "outputs": [
    {
     "data": {
      "text/plain": [
       "[{('Leones',): 28,\n",
       "  ('Koala ',): 28,\n",
       "  ('Osos',): 28,\n",
       "  ('Jirafa',): 28,\n",
       "  ('Chimpancés',): 28},\n",
       " {('Chimpancés', 'Osos'): 3,\n",
       "  ('Jirafa', 'Chimpancés'): 6,\n",
       "  ('Chimpancés', 'Jirafa'): 3,\n",
       "  ('Chimpancés', 'Koala '): 13,\n",
       "  ('Jirafa', 'Leones'): 4,\n",
       "  ('Jirafa', 'Koala '): 7,\n",
       "  ('Koala ', 'Jirafa'): 8,\n",
       "  ('Koala ', 'Osos'): 7,\n",
       "  ('Koala ', 'Leones'): 4,\n",
       "  ('Leones', 'Jirafa'): 5,\n",
       "  ('Leones', 'Chimpancés'): 10,\n",
       "  ('Leones', 'Koala '): 4,\n",
       "  ('Leones', 'Osos'): 7,\n",
       "  ('Osos', 'Jirafa'): 7,\n",
       "  ('Osos', 'Chimpancés'): 8,\n",
       "  ('Osos', 'Leones'): 10},\n",
       " {('Chimpancés', 'Koala ', 'Jirafa'): 4,\n",
       "  ('Jirafa', 'Chimpancés', 'Koala '): 3,\n",
       "  ('Jirafa', 'Koala ', 'Osos'): 3,\n",
       "  ('Koala ', 'Jirafa', 'Leones'): 3,\n",
       "  ('Koala ', 'Osos', 'Leones'): 3,\n",
       "  ('Leones', 'Chimpancés', 'Koala '): 5,\n",
       "  ('Leones', 'Chimpancés', 'Osos'): 3,\n",
       "  ('Leones', 'Osos', 'Chimpancés'): 3,\n",
       "  ('Leones', 'Osos', 'Jirafa'): 3,\n",
       "  ('Osos', 'Chimpancés', 'Koala '): 3,\n",
       "  ('Osos', 'Jirafa', 'Chimpancés'): 3,\n",
       "  ('Osos', 'Leones', 'Chimpancés'): 5,\n",
       "  ('Osos', 'Leones', 'Jirafa'): 3},\n",
       " {('Osos', 'Leones', 'Chimpancés', 'Koala '): 3}]"
      ]
     },
     "execution_count": 7,
     "metadata": {},
     "output_type": "execute_result"
    }
   ],
   "source": [
    "result_tot1"
   ]
  },
  {
   "cell_type": "markdown",
   "metadata": {},
   "source": [
    "Imprimimos la segunda configuración"
   ]
  },
  {
   "cell_type": "code",
   "execution_count": 16,
   "metadata": {},
   "outputs": [
    {
     "data": {
      "text/plain": [
       "[{('Osos',): 28,\n",
       "  ('Jirafa',): 28,\n",
       "  ('Chimpancés',): 28,\n",
       "  ('Koala ',): 28,\n",
       "  ('Leones',): 28},\n",
       " {('Chimpancés', 'Koala '): 13,\n",
       "  ('Jirafa', 'Chimpancés'): 6,\n",
       "  ('Jirafa', 'Koala '): 7,\n",
       "  ('Koala ', 'Jirafa'): 8,\n",
       "  ('Koala ', 'Osos'): 7,\n",
       "  ('Leones', 'Chimpancés'): 10,\n",
       "  ('Osos', 'Jirafa'): 7,\n",
       "  ('Leones', 'Osos'): 7,\n",
       "  ('Osos', 'Chimpancés'): 8,\n",
       "  ('Osos', 'Leones'): 10}]"
      ]
     },
     "execution_count": 16,
     "metadata": {},
     "output_type": "execute_result"
    }
   ],
   "source": [
    "result_tot2"
   ]
  },
  {
   "cell_type": "markdown",
   "metadata": {},
   "source": [
    "Imprimimos la tercera configuración"
   ]
  },
  {
   "cell_type": "code",
   "execution_count": 17,
   "metadata": {},
   "outputs": [
    {
     "data": {
      "text/plain": [
       "[{('Osos',): 28,\n",
       "  ('Jirafa',): 28,\n",
       "  ('Leones',): 28,\n",
       "  ('Koala ',): 28,\n",
       "  ('Chimpancés',): 28},\n",
       " {('Chimpancés', 'Koala '): 13,\n",
       "  ('Leones', 'Chimpancés'): 10,\n",
       "  ('Osos', 'Leones'): 10}]"
      ]
     },
     "execution_count": 17,
     "metadata": {},
     "output_type": "execute_result"
    }
   ],
   "source": [
    "result_tot3"
   ]
  },
  {
   "cell_type": "markdown",
   "metadata": {},
   "source": [
    "Como un analisis global de las siguientes configuraciones de soporte, podemos ver, que a medida que descendemos el valor del soporte sobre la matriz total del dataset, se nos reduce el numero de transacciones. Cuanto mas valor tiene el soporte, solo apareceran aquellas transacciones que tengan mayor frecuencia. \n",
    "\n",
    "Para una configuración de soporte 0.1, aparecerán todas las transacciones del dataset debido a que solo necesita una frecuencia mayor o igual a 3.\n",
    "\n",
    "Para una configuración de soporte 0.2, aparecerán las transacciones con una frecuencia mayor o igual a 6.\n",
    "\n",
    "Para una configuración de soporte 0.3, aparecerán las transacciones con una frecuencia mayor o igual a 10.\n",
    "\n",
    "Como ya hemos visto en la parte teórica de la asignatura, con GSP, importa el orden de los items q se encuentren en la transacción, no es lo mismo {Osos, Leones} que {Leones, Osos}, por eso nos aparecen una gran cantidad de transacciones.\n",
    "\n",
    "Para el analisis de una de las configuraciones de soporte, utilizaremos la de 0.2."
   ]
  },
  {
   "cell_type": "code",
   "execution_count": 19,
   "metadata": {},
   "outputs": [
    {
     "data": {
      "text/plain": [
       "[{('Osos',): 28,\n",
       "  ('Jirafa',): 28,\n",
       "  ('Chimpancés',): 28,\n",
       "  ('Koala ',): 28,\n",
       "  ('Leones',): 28},\n",
       " {('Chimpancés', 'Koala '): 13,\n",
       "  ('Jirafa', 'Chimpancés'): 6,\n",
       "  ('Jirafa', 'Koala '): 7,\n",
       "  ('Koala ', 'Jirafa'): 8,\n",
       "  ('Koala ', 'Osos'): 7,\n",
       "  ('Leones', 'Chimpancés'): 10,\n",
       "  ('Osos', 'Jirafa'): 7,\n",
       "  ('Leones', 'Osos'): 7,\n",
       "  ('Osos', 'Chimpancés'): 8,\n",
       "  ('Osos', 'Leones'): 10}]"
      ]
     },
     "execution_count": 19,
     "metadata": {},
     "output_type": "execute_result"
    }
   ],
   "source": [
    "result_tot2"
   ]
  },
  {
   "cell_type": "markdown",
   "metadata": {},
   "source": [
    "Analizando esta configuración de soporte, utilizaremos dicha configuración, para cada zoologico, para ver que orden de importancia hay en cada zoologico y que animales tienen mas popularidad en cada uno."
   ]
  },
  {
   "cell_type": "code",
   "execution_count": 21,
   "metadata": {},
   "outputs": [
    {
     "name": "stdout",
     "output_type": "stream",
     "text": [
      "Madrid\n",
      "[{('Osos',): 7, ('Jirafa',): 7, ('Koala ',): 7, ('Leones',): 7, ('Chimpancés',): 7}, {('Jirafa', 'Chimpancés'): 2, ('Chimpancés', 'Koala '): 4, ('Jirafa', 'Koala '): 2, ('Koala ', 'Jirafa'): 3, ('Koala ', 'Osos'): 2, ('Leones', 'Chimpancés'): 4, ('Leones', 'Osos'): 2, ('Osos', 'Jirafa'): 3, ('Osos', 'Leones'): 3}, {('Chimpancés', 'Koala ', 'Jirafa'): 2, ('Leones', 'Chimpancés', 'Koala '): 2, ('Osos', 'Leones', 'Chimpancés'): 2}]\n",
      "Barcelona\n",
      "[{('Leones',): 7, ('Jirafa',): 7, ('Osos',): 7, ('Chimpancés',): 7, ('Koala ',): 7}, {('Jirafa', 'Chimpancés'): 3, ('Jirafa', 'Leones'): 2, ('Chimpancés', 'Koala '): 4, ('Koala ', 'Jirafa'): 2, ('Koala ', 'Osos'): 2, ('Leones', 'Koala '): 2, ('Leones', 'Osos'): 3, ('Osos', 'Chimpancés'): 2, ('Osos', 'Jirafa'): 3}, {('Jirafa', 'Chimpancés', 'Koala '): 2, ('Leones', 'Osos', 'Jirafa'): 2, ('Osos', 'Jirafa', 'Chimpancés'): 2}]\n",
      "Valencia\n",
      "[{('Osos',): 7, ('Jirafa',): 7, ('Koala ',): 7, ('Leones',): 7, ('Chimpancés',): 7}, {('Chimpancés', 'Jirafa'): 3, ('Jirafa', 'Koala '): 3, ('Chimpancés', 'Koala '): 2, ('Koala ', 'Chimpancés'): 2, ('Koala ', 'Leones'): 2, ('Leones', 'Chimpancés'): 2, ('Leones', 'Jirafa'): 2, ('Osos', 'Chimpancés'): 3, ('Osos', 'Leones'): 3}, {('Chimpancés', 'Jirafa', 'Koala '): 2, ('Osos', 'Chimpancés', 'Jirafa'): 2}, {('Osos', 'Chimpancés', 'Jirafa', 'Koala '): 2}]\n",
      "Fuengirola\n",
      "[{('Koala ',): 7, ('Osos',): 7, ('Chimpancés',): 7, ('Jirafa',): 7, ('Leones',): 7}, {('Jirafa', 'Koala '): 2, ('Koala ', 'Jirafa'): 2, ('Chimpancés', 'Koala '): 3, ('Koala ', 'Osos'): 3, ('Leones', 'Chimpancés'): 3, ('Leones', 'Jirafa'): 2, ('Osos', 'Chimpancés'): 3, ('Osos', 'Leones'): 3}, {('Chimpancés', 'Koala ', 'Jirafa'): 2, ('Koala ', 'Osos', 'Leones'): 2, ('Jirafa', 'Koala ', 'Osos'): 2, ('Osos', 'Chimpancés', 'Koala '): 2, ('Osos', 'Leones', 'Chimpancés'): 2}, {('Osos', 'Chimpancés', 'Koala ', 'Jirafa'): 2}]\n"
     ]
    }
   ],
   "source": [
    "print(\"Madrid\")\n",
    "print(result_madrid)\n",
    "print(\"Barcelona\")\n",
    "print(result_barcelona)\n",
    "print(\"Valencia\")\n",
    "print(result_valencia)\n",
    "print(\"Fuengirola\")\n",
    "print(result_fuengirola)"
   ]
  },
  {
   "cell_type": "markdown",
   "metadata": {},
   "source": [
    "Antes de realizar un pequeño analisis gráfico, podemos ver que en Madrid, la mayor parte del público va a ver a los Chimpancés y Koalas o Leones y Chimpancés, mientras que en Barcelona, son mas visitados los Chimpancés y las Jirafas. \n",
    "\n",
    "En Valencia, contamos con transacciones muy similares, lo que quiere decir, que el público no da apenas preferencia a ningun animal. Y en Fuengirola, tenemos la misma situación que en Valencia, pocas preferencias en las visitas a los animales.\n",
    "\n",
    "Ahora realizaremos un pequeño analisis grafico sobre la transacción {Leones, Chimpances} en los diferentes zoológicos."
   ]
  },
  {
   "cell_type": "code",
   "execution_count": 45,
   "metadata": {},
   "outputs": [],
   "source": [
    "#Generamos DataFrame de la matriz resultado de cada zoologico para coger el valor de la frecuencia de {Leones,Chimpances} en\n",
    "#cada zoologico\n",
    "Madrid=pd.DataFrame(result_madrid)\n",
    "Barcelona=pd.DataFrame(result_barcelona)\n",
    "Valencia=pd.DataFrame(result_valencia)\n",
    "Fuengirola=pd.DataFrame(result_madrid)\n",
    "#Cogemos el valor correspondiente en cada dataframe\n",
    "MadridLC=Madrid.iloc[1,10]\n",
    "BarcelonaLC=0.0\n",
    "ValenciaLC=Valencia.iloc[1,10]\n",
    "FuengirolaLC=Fuengirola.iloc[1,10]"
   ]
  },
  {
   "cell_type": "code",
   "execution_count": 46,
   "metadata": {},
   "outputs": [
    {
     "data": {
      "image/png": "[encoded data removed]",
      "text/plain": [
       "<Figure size 432x288 with 1 Axes>"
      ]
     },
     "metadata": {
      "needs_background": "light"
     },
     "output_type": "display_data"
    }
   ],
   "source": [
    "x=['Madrid','Barcelona','Valencia','Fuengirola']\n",
    "y=[MadridLC,BarcelonaLC,ValenciaLC,FuengirolaLC]\n",
    "pl.bar(x,y,align='center')\n",
    "pl.show()"
   ]
  },
  {
   "cell_type": "markdown",
   "metadata": {},
   "source": [
    "Como podemos ver, en ese orden, en Madrid y en Fuengirola, La gente visita antes a los leones q a los chimpancés, mientras que en Barcelona no encontramos ningún caso y en Valencia, no hay mucha preferencia pero si hay frecuencia sobre esa transacción"
   ]
  },
  {
   "cell_type": "code",
   "execution_count": null,
   "metadata": {},
   "outputs": [],
   "source": []
  }
 ],
 "metadata": {
  "kernelspec": {
   "display_name": "Python 3",
   "language": "python",
   "name": "python3"
  },
  "language_info": {
   "codemirror_mode": {
    "name": "ipython",
    "version": 3
   },
   "file_extension": ".py",
   "mimetype": "text/x-python",
   "name": "python",
   "nbconvert_exporter": "python",
   "pygments_lexer": "ipython3",
   "version": "3.8.5"
  }
 },
 "nbformat": 4,
 "nbformat_minor": 4
}
